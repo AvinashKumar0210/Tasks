{
  "nbformat": 4,
  "nbformat_minor": 0,
  "metadata": {
    "colab": {
      "provenance": [],
      "authorship_tag": "ABX9TyP8cNFFVFpRf6GZozbAhlfN",
      "include_colab_link": true
    },
    "kernelspec": {
      "name": "python3",
      "display_name": "Python 3"
    },
    "language_info": {
      "name": "python"
    }
  },
  "cells": [
    {
      "cell_type": "markdown",
      "metadata": {
        "id": "view-in-github",
        "colab_type": "text"
      },
      "source": [
        "<a href=\"https://colab.research.google.com/github/AvinashKumar0210/Tasks/blob/main/Task1.ipynb\" target=\"_parent\"><img src=\"https://colab.research.google.com/assets/colab-badge.svg\" alt=\"Open In Colab\"/></a>"
      ]
    },
    {
      "cell_type": "markdown",
      "source": [
        "**TASK 1 : Top Cuisines\n",
        "Determine the top three most cuisines in the  dataset.\n",
        "Calculate the percentage of restaurants that serve each of the top cuisines.**"
      ],
      "metadata": {
        "id": "NCw8lHM97UmU"
      }
    },
    {
      "cell_type": "code",
      "source": [
        "import numpy as np\n",
        "import pandas as pd"
      ],
      "metadata": {
        "id": "tvR7tfYX8ZX4"
      },
      "execution_count": 1,
      "outputs": []
    },
    {
      "cell_type": "code",
      "source": [
        "df = pd.read_csv(\"/Dataset .csv\")\n",
        "df_head = df.head()\n",
        "df_info = df.info()\n",
        "df_describe = df.describe()"
      ],
      "metadata": {
        "id": "l_N0sdlx8l4C",
        "colab": {
          "base_uri": "https://localhost:8080/"
        },
        "outputId": "81e7ad9c-4ad1-4a70-98e1-ddff68e9b294"
      },
      "execution_count": 5,
      "outputs": [
        {
          "output_type": "stream",
          "name": "stdout",
          "text": [
            "<class 'pandas.core.frame.DataFrame'>\n",
            "RangeIndex: 9551 entries, 0 to 9550\n",
            "Data columns (total 21 columns):\n",
            " #   Column                Non-Null Count  Dtype  \n",
            "---  ------                --------------  -----  \n",
            " 0   Restaurant ID         9551 non-null   int64  \n",
            " 1   Restaurant Name       9551 non-null   object \n",
            " 2   Country Code          9551 non-null   int64  \n",
            " 3   City                  9551 non-null   object \n",
            " 4   Address               9551 non-null   object \n",
            " 5   Locality              9551 non-null   object \n",
            " 6   Locality Verbose      9551 non-null   object \n",
            " 7   Longitude             9551 non-null   float64\n",
            " 8   Latitude              9551 non-null   float64\n",
            " 9   Cuisines              9542 non-null   object \n",
            " 10  Average Cost for two  9551 non-null   int64  \n",
            " 11  Currency              9551 non-null   object \n",
            " 12  Has Table booking     9551 non-null   object \n",
            " 13  Has Online delivery   9551 non-null   object \n",
            " 14  Is delivering now     9551 non-null   object \n",
            " 15  Switch to order menu  9551 non-null   object \n",
            " 16  Price range           9551 non-null   int64  \n",
            " 17  Aggregate rating      9551 non-null   float64\n",
            " 18  Rating color          9551 non-null   object \n",
            " 19  Rating text           9551 non-null   object \n",
            " 20  Votes                 9551 non-null   int64  \n",
            "dtypes: float64(3), int64(5), object(13)\n",
            "memory usage: 1.5+ MB\n"
          ]
        }
      ]
    },
    {
      "cell_type": "code",
      "source": [
        "#Calculating average cost for two columns\n",
        "avg_cost = df['Average Cost for two'].mean()+ 3*df['Average Cost for two'].std()\n",
        "print(avg_cost)"
      ],
      "metadata": {
        "id": "dN5AdL0x_kqv",
        "colab": {
          "base_uri": "https://localhost:8080/"
        },
        "outputId": "d36e8c2a-9845-4b31-a93c-37cd7bd795f3"
      },
      "execution_count": 6,
      "outputs": [
        {
          "output_type": "stream",
          "name": "stdout",
          "text": [
            "49562.75998376979\n"
          ]
        }
      ]
    },
    {
      "cell_type": "code",
      "source": [
        "Top_Cuisines = df['Cuisines'].value_counts().head(3)\n",
        "print(\"Top three most common Cuisines : \",Top_Cuisines)"
      ],
      "metadata": {
        "id": "5Dc4dyKoAP75",
        "colab": {
          "base_uri": "https://localhost:8080/"
        },
        "outputId": "39c3337b-a6bb-46e8-89b5-8425e43fc25a"
      },
      "execution_count": 7,
      "outputs": [
        {
          "output_type": "stream",
          "name": "stdout",
          "text": [
            "Top three most common Cuisines :  Cuisines\n",
            "North Indian             936\n",
            "North Indian, Chinese    511\n",
            "Chinese                  354\n",
            "Name: count, dtype: int64\n"
          ]
        }
      ]
    },
    {
      "cell_type": "markdown",
      "source": [
        "**Calculating the percentage of restaurants that serves each of the top cuisines.**"
      ],
      "metadata": {
        "id": "fYRrU_S72oIG"
      }
    },
    {
      "cell_type": "code",
      "source": [
        "top_restaurants = len(df[df['Cuisines'].isin(Top_Cuisines.index)])\n",
        "print(\"Total number of restaurants : \",top_restaurants)"
      ],
      "metadata": {
        "id": "AuvsKynDBhHm",
        "colab": {
          "base_uri": "https://localhost:8080/"
        },
        "outputId": "dac14637-b678-4899-fe42-8088397a5823"
      },
      "execution_count": 8,
      "outputs": [
        {
          "output_type": "stream",
          "name": "stdout",
          "text": [
            "Total number of restaurants :  1801\n"
          ]
        }
      ]
    },
    {
      "cell_type": "code",
      "source": [
        "percentage_top_cuisines = (Top_Cuisines/top_restaurants)*100\n",
        "print(\"Percentage of restaurants serving top cuisines : \",percentage_top_cuisines)"
      ],
      "metadata": {
        "id": "j39VsP3VB7gn",
        "colab": {
          "base_uri": "https://localhost:8080/"
        },
        "outputId": "ad58e9f5-68f2-4412-aff5-fb0e31a3c1ac"
      },
      "execution_count": 9,
      "outputs": [
        {
          "output_type": "stream",
          "name": "stdout",
          "text": [
            "Percentage of restaurants serving top cuisines :  Cuisines\n",
            "North Indian             51.971127\n",
            "North Indian, Chinese    28.373126\n",
            "Chinese                  19.655747\n",
            "Name: count, dtype: float64\n"
          ]
        }
      ]
    }
  ]
}